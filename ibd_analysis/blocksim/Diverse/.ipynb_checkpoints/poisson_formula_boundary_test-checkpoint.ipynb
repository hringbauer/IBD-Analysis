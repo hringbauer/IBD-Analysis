{
 "cells": [
  {
   "cell_type": "markdown",
   "metadata": {},
   "source": [
    "# Check whether the Poisson Formulas with Boundary effect are accurate\n",
    "In Python 3\n",
    "From Harald Ringbauer\n",
    "At August 20th 2018"
   ]
  },
  {
   "cell_type": "code",
   "execution_count": 40,
   "metadata": {},
   "outputs": [],
   "source": [
    "import numpy as np\n",
    "import matplotlib.pyplot as plt"
   ]
  },
  {
   "cell_type": "code",
   "execution_count": 165,
   "metadata": {},
   "outputs": [],
   "source": [
    "def poisson_draw_t(l, t):\n",
    "    \"\"\"For Chromosome of length l Morgan, draw 2*t recombination events. Give back the resulting blocks.\"\"\"\n",
    "    start=0\n",
    "    end=0\n",
    "    itvs = []\n",
    "    \n",
    "    rate=2*t # The rate of the process\n",
    "    \n",
    "    while True:\n",
    "        bl = np.random.exponential(scale=1/rate)     \n",
    "        end = end + bl  # Add to process\n",
    "        \n",
    "        if end>=l:  # Break if end of loop reached\n",
    "            break\n",
    "        itvs.append(bl)\n",
    "        \n",
    "        start=end\n",
    "            \n",
    "    itvs.append(l - start) # Attach the last block as well\n",
    "    return itvs\n",
    "\n",
    "\n",
    "def replicate_draws(l, t, reps):\n",
    "    \"\"\" Wrapper for poisson_draw_t for replicates\n",
    "    l: Chromosome length\n",
    "    t: Time passed\n",
    "    reps: How many replicates\"\"\"\n",
    "    all_bls = np.concatenate([poisson_draw_t(l, t) for _ in range(reps)])\n",
    "    return all_bls\n",
    "\n",
    "def exp_bl_nr(l, t, L, deltal):\n",
    "    \"\"\"Analytical Approximation for the Number of Blocks in [L,L+deltaL]\n",
    "    L length of the total chromosome\"\"\"\n",
    "    l = l + deltal/2.0 # Calculate the midpoint\n",
    "    \n",
    "    dens = 2 * np.exp(-2*t*l) * (2 * t) + (2 * t)**2 * np.exp(-2*t*l)    # Block sharing density\n",
    "    return deltaL * dens    # Return Block Sharing Nr in this Bin\n",
    "    \n",
    "def exp_bl_nr_array(t, L, lvec):\n",
    "    \"\"\"Analytical Approximation for the Number of Blocks in bins defined by lvec\n",
    "    L: Length of the total chromosome\n",
    "    l: Length of the Block.\n",
    "    t: Time t past\"\"\"\n",
    "    l = (lvec[1:] + lvec[:-1]) / 2    # Calculate the Mid Points\n",
    "    delta_l = lvec[1:] - lvec[:-1]    # Calculate the Length of the Bins\n",
    "    \n",
    "    \n",
    "    \n",
    "    # Do the Calculation\n",
    "    dens = 2 * np.exp(-2*t*l) * (2 * t) + (L - l) * (2 * t)**2 * np.exp(-2*t*l)    # Block sharing density\n",
    "    dens[L<lvec[1:]]=0\n",
    "    \n",
    "    #print(lvec[:-1]<L)\n",
    "    #print(L<lvec[1:])\n",
    "    i = np.where((lvec[:-1]<=L) * (L<lvec[1:]))[0]\n",
    "    \n",
    "    print(i)\n",
    "    if len(i)>0:\n",
    "        dens[i[0]] = np.exp(-2*t*L) / delta_l[i[0]]\n",
    "    \n",
    "    # The one that hits the right length:\n",
    "    \n",
    "    \n",
    "    return delta_l * dens"
   ]
  },
  {
   "cell_type": "code",
   "execution_count": 26,
   "metadata": {},
   "outputs": [
    {
     "name": "stdout",
     "output_type": "stream",
     "text": [
      "199652\n"
     ]
    }
   ],
   "source": [
    "# Test whether roughly enough elements are drawn:\n",
    "bls = poisson_draw_t(1, 1e5)\n",
    "print(len(bls))"
   ]
  },
  {
   "cell_type": "code",
   "execution_count": 159,
   "metadata": {},
   "outputs": [
    {
     "name": "stdout",
     "output_type": "stream",
     "text": [
      "Total Number of blocks expected (No boundary): 2100000\n",
      "Total Number of blocks: 2199253\n"
     ]
    }
   ],
   "source": [
    "# Generate large number of replicate blocks:\n",
    "l=1.5\n",
    "t=7\n",
    "reps=100000\n",
    "all_bls = replicate_draws(l, t, reps)\n",
    " \n",
    "print(\"Total Number of blocks expected (No boundary): %i\" % (l*2*t*reps))  # Without boundary effects\n",
    "print(\"Total Number of blocks: %i\" % len(all_bls))"
   ]
  },
  {
   "cell_type": "code",
   "execution_count": 166,
   "metadata": {},
   "outputs": [
    {
     "name": "stdout",
     "output_type": "stream",
     "text": [
      "[]\n"
     ]
    },
    {
     "data": {
      "image/png": "[encoded data removed]",
      "text/plain": [
       "<Figure size 864x864 with 1 Axes>"
      ]
     },
     "metadata": {},
     "output_type": "display_data"
    },
    {
     "name": "stdout",
     "output_type": "stream",
     "text": [
      "Difference Counts to Formula: -726\n",
      "Total: 2199253\n"
     ]
    }
   ],
   "source": [
    "# Make 0.1 cM bins\n",
    "fs=12\n",
    "\n",
    "# Bin the Data\n",
    "bins = np.arange(0, 1.00001, step = 1e-3)\n",
    "midpoints = (bins[1:] + bins[:-1])/2\n",
    "\n",
    "# Count the Simulations\n",
    "counts, _ = np.histogram(all_bls, bins=bins)  # Bin all the Blocks\n",
    "\n",
    "# Do the analytical approximations:\n",
    "exp_nr = exp_bl_nr_array(t, L=l, lvec=bins) * reps  \n",
    "\n",
    "\n",
    "plt.figure(figsize=(12, 12))\n",
    "plt.plot(midpoints, counts, \"ro\", ms=3, label=\"Simulation\")\n",
    "plt.plot(midpoints, exp_nr, color=\"royalblue\", label=\"Analytical\")\n",
    "plt.legend(loc=\"upper right\", fontsize=14)\n",
    "plt.xlabel(\"Block Length\", fontsize=fs)\n",
    "plt.ylabel(\"Count\", fontsize=fs)\n",
    "plt.show()\n",
    "\n",
    "## Calculate the relative Error:\n",
    "diff = (counts - exp_nr)\n",
    "print(\"Difference Counts to Formula: %i\" % np.sum(diff))\n",
    "print(\"Total: %i\" % len(all_bls))"
   ]
  },
  {
   "cell_type": "code",
   "execution_count": 48,
   "metadata": {},
   "outputs": [],
   "source": [
    "bins = np.arange(0, 1.00001, step = 1e-3)\n",
    "counts, _ = np.histogram(all_bls, bins=bins)  # Bin all the Blocks"
   ]
  },
  {
   "cell_type": "code",
   "execution_count": 49,
   "metadata": {},
   "outputs": [
    {
     "data": {
      "text/plain": [
       "array([1690, 1555, 1513, 1442, 1419, 1292, 1218, 1201, 1249, 1185, 1113,\n",
       "       1051, 1000, 1009,  957,  901,  873,  849,  782,  733,  698,  682,\n",
       "        672,  658,  631,  590,  559,  510,  541,  507,  501,  440,  450,\n",
       "        432,  388,  382,  421,  341,  362,  333,  305,  285,  265,  283,\n",
       "        308,  241,  266,  237,  252,  227,  210,  215,  189,  195,  166,\n",
       "        180,  161,  160,  159,  141,  153,  141,  141,  125,  114,  123,\n",
       "        115,  104,  102,   90,   91,   82,   98,   88,   81,   75,   71,\n",
       "         56,   59,   69,   63,   68,   55,   58,   54,   49,   33,   40,\n",
       "         43,   38,   32,   47,   30,   46,   32,   32,   37,   26,   30,\n",
       "         44,   31,   29,   29,   16,   27,   25,   17,   23,   14,   24,\n",
       "         19,   18,   18,   18,   11,   12,   14,   11,   11,   14,   14,\n",
       "          3,   11,   14,    9,   14,   11,   13,    6,    7,    7,    5,\n",
       "          6,    8,   11,    2,    5,    4,    6,    0,    8,    4,    5,\n",
       "          3,    7,    1,    3,    3,    3,    2,    4,    4,    4,    3,\n",
       "          1,    1,    5,    2,    3,    3,    1,    1,    0,    0,    2,\n",
       "          1,    0,    1,    4,    1,    3,    4,    0,    4,    0,    0,\n",
       "          0,    2,    0,    0,    2,    1,    0,    0,    0,    1,    1,\n",
       "          2,    1,    2,    0,    1,    0,    0,    0,    0,    0,    0,\n",
       "          0,    2,    2,    0,    0,    1,    0,    2,    0,    3,    0,\n",
       "          1,    0,    0,    0,    1,    1,    0,    0,    2,    0,    0,\n",
       "          0,    0,    1,    0,    0,    0,    0,    0,    0,    1,    0,\n",
       "          0,    0,    0,    0,    0,    0,    0,    0,    1,    0,    0,\n",
       "          0,    0,    0,    0,    0,    0,    0,    1,    0,    0,    0,\n",
       "          0,    0,    0,    0,    0,    0,    0,    1,    0,    0,    0,\n",
       "          0,    0,    0,    0,    0,    1,    0,    0,    0,    0,    0,\n",
       "          0,    0,    0,    0,    0,    0,    0,    0,    0,    0,    0,\n",
       "          0,    0,    0,    0,    0,    0,    0,    0,    0,    0,    0,\n",
       "          0,    0,    0,    0,    0,    0,    0,    0,    0,    0,    0,\n",
       "          0,    0,    0,    0,    0,    0,    0,    0,    0,    0,    0,\n",
       "          0,    0,    0,    0,    0,    0,    0,    0,    0,    0,    0,\n",
       "          0,    0,    0,    0,    0,    0,    0,    0,    0,    0,    0,\n",
       "          0,    0,    0,    0,    0,    0,    0,    0,    0,    0,    0,\n",
       "          0,    0,    0,    0,    0,    0,    0,    0,    0,    0,    0,\n",
       "          0,    0,    0,    0,    0,    0,    0,    0,    0,    0,    0,\n",
       "          0,    0,    0,    0,    0,    0,    0,    0,    0,    0,    0,\n",
       "          0,    0,    0,    0,    0,    0,    0,    0,    0,    0,    0,\n",
       "          0,    0,    0,    0,    0,    0,    0,    0,    0,    0,    0,\n",
       "          0,    0,    0,    0,    0,    0,    0,    0,    0,    0,    0,\n",
       "          0,    0,    0,    0,    0,    0,    0,    0,    0,    0,    0,\n",
       "          0,    0,    0,    0,    0,    0,    0,    0,    0,    0,    0,\n",
       "          0,    0,    0,    0,    0,    0,    0,    0,    0,    0,    0,\n",
       "          0,    0,    0,    0,    0,    0,    0,    0,    0,    0,    0,\n",
       "          0,    0,    0,    0,    0,    0,    0,    0,    0,    0,    0,\n",
       "          0,    0,    0,    0,    0,    0,    0,    0,    0,    0,    0,\n",
       "          0,    0,    0,    0,    0,    0,    0,    0,    0,    0,    0,\n",
       "          0,    0,    0,    0,    0,    0,    0,    0,    0,    0,    0,\n",
       "          0,    0,    0,    0,    0,    0,    0,    0,    0,    0,    0,\n",
       "          0,    0,    0,    0,    0,    0,    0,    0,    0,    0,    0,\n",
       "          0,    0,    0,    0,    0,    0,    0,    0,    0,    0,    0,\n",
       "          0,    0,    0,    0,    0,    0,    0,    0,    0,    0,    0,\n",
       "          0,    0,    0,    0,    0,    0,    0,    0,    0,    0,    0,\n",
       "          0,    0,    0,    0,    0,    0,    0,    0,    0,    0,    0,\n",
       "          0,    0,    0,    0,    0,    0,    0,    0,    0,    0,    0,\n",
       "          0,    0,    0,    0,    0,    0,    0,    0,    0,    0,    0,\n",
       "          0,    0,    0,    0,    0,    0,    0,    0,    0,    0,    0,\n",
       "          0,    0,    0,    0,    0,    0,    0,    0,    0,    0,    0,\n",
       "          0,    0,    0,    0,    0,    0,    0,    0,    0,    0,    0,\n",
       "          0,    0,    0,    0,    0,    0,    0,    0,    0,    0,    0,\n",
       "          0,    0,    0,    0,    0,    0,    0,    0,    0,    0,    0,\n",
       "          0,    0,    0,    0,    0,    0,    0,    0,    0,    0,    0,\n",
       "          0,    0,    0,    0,    0,    0,    0,    0,    0,    0,    0,\n",
       "          0,    0,    0,    0,    0,    0,    0,    0,    0,    0,    0,\n",
       "          0,    0,    0,    0,    0,    0,    0,    0,    0,    0,    0,\n",
       "          0,    0,    0,    0,    0,    0,    0,    0,    0,    0,    0,\n",
       "          0,    0,    0,    0,    0,    0,    0,    0,    0,    0,    0,\n",
       "          0,    0,    0,    0,    0,    0,    0,    0,    0,    0,    0,\n",
       "          0,    0,    0,    0,    0,    0,    0,    0,    0,    0,    0,\n",
       "          0,    0,    0,    0,    0,    0,    0,    0,    0,    0,    0,\n",
       "          0,    0,    0,    0,    0,    0,    0,    0,    0,    0,    0,\n",
       "          0,    0,    0,    0,    0,    0,    0,    0,    0,    0,    0,\n",
       "          0,    0,    0,    0,    0,    0,    0,    0,    0,    0,    0,\n",
       "          0,    0,    0,    0,    0,    0,    0,    0,    0,    0,    0,\n",
       "          0,    0,    0,    0,    0,    0,    0,    0,    0,    0,    0,\n",
       "          0,    0,    0,    0,    0,    0,    0,    0,    0,    0,    0,\n",
       "          0,    0,    0,    0,    0,    0,    0,    0,    0,    0,    0,\n",
       "          0,    0,    0,    0,    0,    0,    0,    0,    0,    0,    0,\n",
       "          0,    0,    0,    0,    0,    0,    0,    0,    0,    0,    0,\n",
       "          0,    0,    0,    0,    0,    0,    0,    0,    0,    0,    0,\n",
       "          0,    0,    0,    0,    0,    0,    0,    0,    0,    0,    0,\n",
       "          0,    0,    0,    0,    0,    0,    0,    0,    0,    0,    0,\n",
       "          0,    0,    0,    0,    0,    0,    0,    0,    0,    0,    0,\n",
       "          0,    0,    0,    0,    0,    0,    0,    0,    0,    0,    0,\n",
       "          0,    0,    0,    0,    0,    0,    0,    0,    0,    0,    0,\n",
       "          0,    0,    0,    0,    0,    0,    0,    0,    0,    0,    0,\n",
       "          0,    0,    0,    0,    0,    0,    0,    0,    0,    0,    0,\n",
       "          0,    0,    0,    0,    0,    0,    0,    0,    0,    0,    0,\n",
       "          0,    0,    0,    0,    0,    0,    0,    0,    0,    0,    0,\n",
       "          0,    0,    0,    0,    0,    0,    0,    0,    0,    0,    0,\n",
       "          0,    0,    0,    0,    0,    0,    0,    0,    0,    0,    0,\n",
       "          0,    0,    0,    0,    0,    0,    0,    0,    0,    0,    0,\n",
       "          0,    0,    0,    0,    0,    0,    0,    0,    0,    0])"
      ]
     },
     "execution_count": 49,
     "metadata": {},
     "output_type": "execute_result"
    }
   ],
   "source": [
    "counts"
   ]
  },
  {
   "cell_type": "code",
   "execution_count": 121,
   "metadata": {},
   "outputs": [
    {
     "data": {
      "image/png": "[encoded data removed]",
      "text/plain": [
       "<Figure size 432x288 with 1 Axes>"
      ]
     },
     "metadata": {},
     "output_type": "display_data"
    }
   ],
   "source": [
    "s = np.linspace(0, 1, 1000)\n",
    "\n",
    "plt.figure()\n",
    "plt.plot(s, (2 - 2*s)/(2 - s))\n",
    "plt.xlabel(\"s\", fontsize = 12)\n",
    "plt.ylabel(r\"$1 - F_{IS}$\", fontsize = 12)\n",
    "plt.show()"
   ]
  },
  {
   "cell_type": "code",
   "execution_count": 158,
   "metadata": {},
   "outputs": [
    {
     "data": {
      "text/plain": [
       "14.285714285714297"
      ]
     },
     "execution_count": 158,
     "metadata": {},
     "output_type": "execute_result"
    }
   ],
   "source": [
    "(2 - 2 * 0.95) / (2 - 0.95) * 150"
   ]
  },
  {
   "cell_type": "code",
   "execution_count": null,
   "metadata": {},
   "outputs": [],
   "source": []
  }
 ],
 "metadata": {
  "kernelspec": {
   "display_name": "Python 3",
   "language": "python",
   "name": "python3"
  },
  "language_info": {
   "codemirror_mode": {
    "name": "ipython",
    "version": 3
   },
   "file_extension": ".py",
   "mimetype": "text/x-python",
   "name": "python",
   "nbconvert_exporter": "python",
   "pygments_lexer": "ipython3",
   "version": "3.5.2"
  }
 },
 "nbformat": 4,
 "nbformat_minor": 2
}
